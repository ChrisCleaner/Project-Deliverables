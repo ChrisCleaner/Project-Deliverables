{
 "cells": [
  {
   "cell_type": "code",
   "execution_count": 2,
   "id": "e8c3b673",
   "metadata": {},
   "outputs": [],
   "source": [
    "import pandas as pd\n",
    "import numpy as np "
   ]
  },
  {
   "cell_type": "code",
   "execution_count": 3,
   "id": "ec02d950",
   "metadata": {},
   "outputs": [],
   "source": [
    "def find_top_X_with_text(values, names, n = 5):\n",
    "    top_idx = np.argsort(values)[-n:]\n",
    "    top_vals = [eval(values[i])[0] for i in top_idx]\n",
    "    top_texts = [eval(values[i])[1] for i in top_idx]\n",
    "    top_names = [names[i] for i in top_idx]\n",
    "    return top_vals[::-1], top_names[::-1], top_texts[::-1]"
   ]
  },
  {
   "cell_type": "code",
   "execution_count": 4,
   "id": "ee215f43",
   "metadata": {},
   "outputs": [],
   "source": [
    "df = pd.read_csv(\"Fuzzy Search Treaty Names Outcomes TrainData Batch 1.csv\", index_col = 0)\n",
    "treaty_names = list(df.columns)[1:]"
   ]
  },
  {
   "cell_type": "code",
   "execution_count": 5,
   "id": "a7890ed4",
   "metadata": {},
   "outputs": [
    {
     "name": "stdout",
     "output_type": "stream",
     "text": [
      "                                         Agreement concerning Cooperation taking Measures against Pollution  \\\n",
      "COP411 Cooperation with the European Uni  (0.3733333333333333, 'dealing with Carpathian ...                   \n",
      "Hexachlorobutadie                         (0.34065934065934067, 'hexachlorobutadiene mee...                   \n",
      "\n",
      "                                         Amendment Annex Convention Prevention Marine Pollution Dumping Wastes Other Matter  \\\n",
      "COP411 Cooperation with the European Uni  (0.32380952380952377, 'establishing inter grou...                                   \n",
      "Hexachlorobutadie                         (0.3771929824561403, 'Annex Stockholm Conventi...                                   \n",
      "\n",
      "                                         Treaty resolve pending boundary differences maintain Grande Colorado river international boundary between United States America Mexico  \\\n",
      "COP411 Cooperation with the European Uni  (0.277027027027027, 'strategies nbsp nbsp Welc...                                                                                       \n",
      "Hexachlorobutadie                         (0.2647058823529411, 'Stockholm Convention Ado...                                                                                       \n",
      "\n",
      "                                         Agreement between Government Ukraine Government Russian Federation joint transboundary waterbodies management protection  \\\n",
      "COP411 Cooperation with the European Uni  (0.27419354838709675, 'cohesion funds Norway g...                                                                         \n",
      "Hexachlorobutadie                         (0.33333333333333337, 'human health environmen...                                                                         \n",
      "\n",
      "                                         Acuerdo fitosanitario suscrito entre Argentina Argelia  \\\n",
      "COP411 Cooperation with the European Uni  (0.3076923076923077, 'Partnership Instrument E...       \n",
      "Hexachlorobutadie                         (0.3125, 'hexachlorobutadiene meets criteria A...       \n",
      "\n",
      "                                         Accord entre Gouvernement Gouvernement italienne relatif lobservation Terre  \\\n",
      "COP411 Cooperation with the European Uni  (0.29761904761904767, 'inter groups European P...                            \n",
      "Hexachlorobutadie                         (0.31313131313131315, 'paragraph Article Conve...                            \n",
      "\n",
      "                                         Agreement between European Economic Community Republic Seychelles fishing Seychelles  \\\n",
      "COP411 Cooperation with the European Uni  (0.27380952380952384, 'DECISION with European ...                                     \n",
      "Hexachlorobutadie                         (0.28695652173913044, 'management evaluation h...                                     \n",
      "\n",
      "                                         Agreement amending Agreement between European Economic Community Government Democratic Republic Tome Principe fishing Tome Principe signed Brussels  \\\n",
      "COP411 Cooperation with the European Uni  (0.2694610778443114, 'SDC cohesion funds Norwa...                                                                                                    \n",
      "Hexachlorobutadie                         (0.29508196721311475, 'management evaluation h...                                                                                                    \n",
      "\n",
      "                                         Agreement between Government Republic Finland Government Union Soviet Socialist Republics regarding delimitation areas Finnish Soviet jurisdiction  \\\n",
      "COP411 Cooperation with the European Uni  (0.273972602739726, 'DECISION with European Un...                                                                                                   \n",
      "Hexachlorobutadie                         (0.2807017543859649, 'POPRC Hexachlorobutadien...                                                                                                   \n",
      "\n",
      "                                              Treaty Southern African Development Community  \\\n",
      "COP411 Cooperation with the European Uni  (0.40909090909090906, 'Territorial Cooperation...   \n",
      "Hexachlorobutadie                         (0.3278688524590164, 'transport lead significa...   \n",
      "\n",
      "                                          ...  \\\n",
      "COP411 Cooperation with the European Uni  ...   \n",
      "Hexachlorobutadie                         ...   \n",
      "\n",
      "                                                                    European Energy Charter  \\\n",
      "COP411 Cooperation with the European Uni  (0.4117647058823529, 'European Union nbsp The ...   \n",
      "Hexachlorobutadie                         (0.3157894736842105, 'environmental effects su...   \n",
      "\n",
      "                                                                         Maroua Declaration  \\\n",
      "COP411 Cooperation with the European Uni  (0.38235294117647056, 'Parliament dealing with...   \n",
      "Hexachlorobutadie                          (0.34782608695652173, 'such that global action')   \n",
      "\n",
      "                                         Agreement between Government United States America Government Portugal fisheries coasts United States  \\\n",
      "COP411 Cooperation with the European Uni  (0.3017241379310345, 'nbsp Welcomes idea estab...                                                      \n",
      "Hexachlorobutadie                         (0.29059829059829057, 'POPRC that hexachlorobu...                                                      \n",
      "\n",
      "                                         Convention between Italy Switzerland concerning frontier traffic grazing  \\\n",
      "COP411 Cooperation with the European Uni  (0.275, 'Cooperation funds Swiss Agency Develo...                         \n",
      "Hexachlorobutadie                         (0.34042553191489366, 'Convention recommend Co...                         \n",
      "\n",
      "                                         Agreement form Exchange Letters concerning extension Protocol establishing fishing opportunities financial contribution provided Agreement between  \\\n",
      "COP411 Cooperation with the European Uni  (0.2808219178082192, 'strategies nbsp nbsp Wel...                                                                                                   \n",
      "Hexachlorobutadie                         (0.2774566473988439, 'management evaluation he...                                                                                                   \n",
      "\n",
      "                                         Additions modifications Minute entitled Emergency deliveries Colorado River water Tijuana Minute  \\\n",
      "COP411 Cooperation with the European Uni  (0.27083333333333337, 'Union nbsp The Conferen...                                                 \n",
      "Hexachlorobutadie                         (0.27419354838709675, 'Article Stockholm Conve...                                                 \n",
      "\n",
      "                                         Agreement between Government Russian Federation Government Republic Bulgaria Government Hellenic Republic relating cooperation construction  \\\n",
      "COP411 Cooperation with the European Uni  (0.30519480519480524, 'grants LIFE European Ne...                                                                                            \n",
      "Hexachlorobutadie                         (0.2727272727272727, 'management evaluation he...                                                                                            \n",
      "\n",
      "                                         Agreement cooperation field plant quarantine plant between Government Republic Yugoslavia Government Republic Belarus  \\\n",
      "COP411 Cooperation with the European Uni  (0.32608695652173914, 'Development Cooperation...                                                                      \n",
      "Hexachlorobutadie                         (0.28481012658227844, 'management evaluation h...                                                                      \n",
      "\n",
      "                                                             Tratado entre Colombia Jamaica  \\\n",
      "COP411 Cooperation with the European Uni  (0.3191489361702128, 'strategies nbsp nbsp Wel...   \n",
      "Hexachlorobutadie                         (0.28, 'with paragraph Article Stockholm Conve...   \n",
      "\n",
      "                                         Convention between Great Britain Liberia supplementary Convention January respecting boundary between Sierra Leone Liberia London June  \n",
      "COP411 Cooperation with the European Uni  (0.2692307692307693, 'Carpathian cooperation I...                                                                                      \n",
      "Hexachlorobutadie                         (0.2865168539325843, 'management evaluation he...                                                                                      \n",
      "\n",
      "[2 rows x 2146 columns]\n"
     ]
    }
   ],
   "source": [
    "print(df.head(2))"
   ]
  },
  {
   "cell_type": "code",
   "execution_count": 33,
   "id": "173baeec",
   "metadata": {},
   "outputs": [
    {
     "name": "stdout",
     "output_type": "stream",
     "text": [
      "Pyu Ancient Cities Myanmar C 14\n"
     ]
    },
    {
     "data": {
      "text/plain": [
       "([0.5,\n",
       "  0.47916666666666663,\n",
       "  0.4558823529411765,\n",
       "  0.4545454545454546,\n",
       "  0.4545454545454546,\n",
       "  0.4509803921568627,\n",
       "  0.4492753623188406,\n",
       "  0.4464285714285714,\n",
       "  0.4444444444444444,\n",
       "  0.4444444444444444],\n",
       " ['Convention Conservation Antarctic Seals',\n",
       "  'Agreement Conservation Polar Bears',\n",
       "  'Protocol implementation Alpine Convention field tourism',\n",
       "  'Convention Conservation Management Vicuna',\n",
       "  'Convention Conservation Anadromous Stocks',\n",
       "  'Convention Conservation Nature South Pacific',\n",
       "  'Convention Supplementary Compensation Nuclear Damage',\n",
       "  'International Plant Protection Convention',\n",
       "  'Amendment Agreement Conservation Bats Europe',\n",
       "  'Amendment Agreement conservation bats Europe'],\n",
       " ['soon possible conservation plan burial sites',\n",
       "  'implement soon possible conservation plan burial',\n",
       "  'inscription develop implement soon possible conservation plan burial',\n",
       "  'soon possible conservation plan burial sites',\n",
       "  'soon possible conservation plan burial sites',\n",
       "  'soon possible conservation plan burial sites allied',\n",
       "  'conservation property implementation above examination World Heritage',\n",
       "  'inscription develop implement soon possible conservation',\n",
       "  'implement soon possible conservation plan burial sites',\n",
       "  'implement soon possible conservation plan burial sites'])"
      ]
     },
     "execution_count": 33,
     "metadata": {},
     "output_type": "execute_result"
    }
   ],
   "source": [
    "num = 5\n",
    "print(df.index[num])\n",
    "find_top_X_with_text(df.loc[df.index[num]], list(df.columns), 10)"
   ]
  },
  {
   "cell_type": "code",
   "execution_count": 80,
   "id": "76afdc72",
   "metadata": {},
   "outputs": [
    {
     "name": "stdout",
     "output_type": "stream",
     "text": [
      "<class 'pandas.core.series.Series'>\n",
      "2145\n"
     ]
    },
    {
     "data": {
      "text/plain": [
       "Index(['Bilateral Agreement between Syria Belarus agricultural quarantine plant protection',\n",
       "       'Agreement between Russian Federation Kazakhstan delimitation deep seabed Northern Part Caspian purpose exercise sovereign rights subsoil manage',\n",
       "       'Agreement between Government Russian Federation Government Kingdom Denmark technical cooperation',\n",
       "       'Agreement between Ministry Agriculture Water Management Uzbekistan Ministry Agriculture Food Russian Federation economic scientific technical cooperation',\n",
       "       'Agreement between Government Russian Federation Government Republic Chile cooperation sphere peaceful management nuclear energy',\n",
       "       'Agreement between Denmark Norway concerning handling claims damage caused fishing gear',\n",
       "       'Agreement between Government United States America Government Russian Federation Cooperation Purposes Preventing Deterring Eliminating Illegal Unreport',\n",
       "       'Supplementary Agreement Agreement International Commission Protection Rhine against Pollution',\n",
       "       'Subsidiary Agreement between Government Australia Government Japan concerning Japanese Tuna Longline Fishing',\n",
       "       'Cooperation Arrangement between Government Tokelau Government Samoa',\n",
       "       ...\n",
       "       'Third protocol laying down conditions relating fishing provided Agreement fisheries between European Economic Community hand Government Denmark',\n",
       "       'Accord portant lorganisation pour Bassin Kagera',\n",
       "       'Protocol concerning Regional Preparedness Response CoOperation combating Pollution Incidents Framework Convention Protection Marine Environment Caspian',\n",
       "       'Bilateral Agreement plant protection between Government Republic Croatia Government Republic Bulgaria',\n",
       "       'International Convention Certain Rules concerning Civil Jurisdiction Matters Collision',\n",
       "       'Protocol between Ministry Agriculture Russian Federation Ministry Agriculture Forestry Finland economic scientific technical cooperation sphere agricu',\n",
       "       'Convention Civil Liability Pollution Damage resulting from Exploration Exploitation Seabed Mineral Resources',\n",
       "       'Accord Sanitaire Veterinaire entre lAgriculture Republique Turquie lAgriculture Peche Republique Algerienne',\n",
       "       'Protocol Treaty Southeast Asia Nuclear Weapon Free Zone',\n",
       "       'Agreement between Republic Portugal Democratic Republic agricultural cooperation'],\n",
       "      dtype='object', length=2146)"
      ]
     },
     "execution_count": 80,
     "metadata": {},
     "output_type": "execute_result"
    }
   ],
   "source": [
    "print(type(df.loc[df.index[num]]))\n",
    "print(len(treaty_names))\n",
    "df.columns"
   ]
  },
  {
   "cell_type": "code",
   "execution_count": 121,
   "id": "0d10b4f9",
   "metadata": {},
   "outputs": [
    {
     "data": {
      "text/plain": [
       "(0.4, 'This is the test string')"
      ]
     },
     "execution_count": 121,
     "metadata": {},
     "output_type": "execute_result"
    }
   ],
   "source": [
    "test = \"(0.4, 'This is the test string')\"\n",
    "eval(test)"
   ]
  },
  {
   "cell_type": "code",
   "execution_count": null,
   "id": "00685849",
   "metadata": {},
   "outputs": [],
   "source": []
  }
 ],
 "metadata": {
  "kernelspec": {
   "display_name": "Python 3 (ipykernel)",
   "language": "python",
   "name": "python3"
  },
  "language_info": {
   "codemirror_mode": {
    "name": "ipython",
    "version": 3
   },
   "file_extension": ".py",
   "mimetype": "text/x-python",
   "name": "python",
   "nbconvert_exporter": "python",
   "pygments_lexer": "ipython3",
   "version": "3.7.4"
  }
 },
 "nbformat": 4,
 "nbformat_minor": 5
}
